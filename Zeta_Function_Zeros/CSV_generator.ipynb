{
 "cells": [
  {
   "cell_type": "code",
   "execution_count": 1,
   "metadata": {},
   "outputs": [],
   "source": [
    "import numpy as np\n",
    "from decimal import *"
   ]
  },
  {
   "cell_type": "markdown",
   "metadata": {},
   "source": [
    "# Non-trivial Zeros of the Zeta Function\n",
    "\n",
    "Create a CSV of non-trivial zeros for the zeta function. The CSV will contain some $\\gamma$s such that $\\zeta(\\frac{1}{2} + i \\gamma) = 0$. These zeros were computed by Andrew Odlyzko."
   ]
  },
  {
   "cell_type": "code",
   "execution_count": 2,
   "metadata": {},
   "outputs": [],
   "source": [
    "def get_zeros(file, gamma):\n",
    "    getcontext().prec = 50\n",
    "    data = np.genfromtxt(file, delimiter=',', dtype=str)\n",
    "    γs_dec = [gamma + Decimal(num) for num in data]\n",
    "    γs_str = [str(γ) for γ in γs_dec]\n",
    "    return γs_str"
   ]
  },
  {
   "cell_type": "markdown",
   "metadata": {},
   "source": [
    "## Zeros number 10^12+1 through 10^12+10^4 of the Riemann zeta function"
   ]
  },
  {
   "cell_type": "markdown",
   "metadata": {},
   "source": [
    "Data taken from: http://www.dtc.umn.edu/~odlyzko/zeta_tables/zeros3\n",
    "\n",
    "Values of gamma - 267653395647, where gamma runs over the heights of the\n",
    "zeros of the Riemann zeta numbered 10^12 + 1 through 10^12 + 10^4.  Thus \n",
    "zero # 10^12 + 1 is actually \n",
    "\n",
    "     1/2 + i * 267,653,395,648.8475231278...\n",
    "\n",
    "Values are guaranteed to be accurate only to within 10^(-8)."
   ]
  },
  {
   "cell_type": "code",
   "execution_count": 3,
   "metadata": {
    "scrolled": true
   },
   "outputs": [
    {
     "data": {
      "text/plain": [
       "'267653395648.8475231278'"
      ]
     },
     "execution_count": 3,
     "metadata": {},
     "output_type": "execute_result"
    }
   ],
   "source": [
    "γ1 = get_zeros('ZEROS1.csv', Decimal('267653395647'))\n",
    "γ1[0]"
   ]
  },
  {
   "cell_type": "code",
   "execution_count": 4,
   "metadata": {
    "scrolled": true
   },
   "outputs": [],
   "source": [
    "np.savetxt(\"zeros_group1.csv\", γ1, delimiter=\",\", fmt='%s')"
   ]
  },
  {
   "cell_type": "markdown",
   "metadata": {},
   "source": [
    "## Zeros number 10^21+1 through 10^21+10^4 of the Riemann zeta function"
   ]
  },
  {
   "cell_type": "markdown",
   "metadata": {},
   "source": [
    "Data taken from: http://www.dtc.umn.edu/~odlyzko/zeta_tables/zeros4\n",
    "\n",
    "Values of gamma - 144176897509546973000, where gamma runs over the heights \n",
    "of the zeros of the Riemann zeta numbered 10^21 + 1 through 10^21 + 10^4.  \n",
    "Thus zero # 10^21 + 1 is actually \n",
    "\n",
    "      1/2 + i * 144,176,897,509,546,973,538.49806962...\n",
    "\n",
    "Values are not guaranteed, and are probably accurate to within 10^(-6)."
   ]
  },
  {
   "cell_type": "code",
   "execution_count": 5,
   "metadata": {},
   "outputs": [
    {
     "data": {
      "text/plain": [
       "'144176897509546973538.49806962'"
      ]
     },
     "execution_count": 5,
     "metadata": {},
     "output_type": "execute_result"
    }
   ],
   "source": [
    "γ2 = get_zeros('ZEROS2.csv', Decimal('144176897509546973000'))\n",
    "γ2[0]"
   ]
  },
  {
   "cell_type": "code",
   "execution_count": 6,
   "metadata": {},
   "outputs": [],
   "source": [
    "np.savetxt(\"zeros_group2.csv\", γ2, delimiter=\",\", fmt='%s')"
   ]
  },
  {
   "cell_type": "markdown",
   "metadata": {},
   "source": [
    "## Zeros number 10^22+1 through 10^22+10^4 of the Riemann zeta function"
   ]
  },
  {
   "cell_type": "markdown",
   "metadata": {},
   "source": [
    "Data taken from: http://www.dtc.umn.edu/~odlyzko/zeta_tables/zeros5\n",
    "\n",
    "Values of gamma - 1370919909931995300000, where gamma runs over the heights\n",
    "of the zeros of the Riemann zeta numbered 10^22 + 1 through 10^22 + 10^4.\n",
    "Thus zero # 10^22 + 1 is actually\n",
    "\n",
    "      1/2 + i * 1,370,919,909,931,995,308,226.68016095...\n",
    "\n",
    "Values are not guaranteed, and are probably accurate to within 10^(-6)."
   ]
  },
  {
   "cell_type": "code",
   "execution_count": 7,
   "metadata": {},
   "outputs": [
    {
     "data": {
      "text/plain": [
       "'1370919909931995308226.68016095'"
      ]
     },
     "execution_count": 7,
     "metadata": {},
     "output_type": "execute_result"
    }
   ],
   "source": [
    "γ3 = get_zeros('ZEROS3.csv', Decimal('1370919909931995300000'))\n",
    "γ3[0]"
   ]
  },
  {
   "cell_type": "code",
   "execution_count": 8,
   "metadata": {},
   "outputs": [],
   "source": [
    "np.savetxt(\"zeros_group3.csv\", γ3, delimiter=\",\", fmt='%s')"
   ]
  },
  {
   "cell_type": "markdown",
   "metadata": {},
   "source": [
    "# Create Master list"
   ]
  },
  {
   "cell_type": "code",
   "execution_count": 9,
   "metadata": {},
   "outputs": [],
   "source": [
    "Γ = γ1.copy()\n",
    "Γ.extend(γ2)\n",
    "Γ.extend(γ3)"
   ]
  },
  {
   "cell_type": "code",
   "execution_count": 10,
   "metadata": {},
   "outputs": [],
   "source": [
    "np.savetxt(\"nontrivial_zeros.csv\", Γ, delimiter=\",\", fmt='%s')"
   ]
  }
 ],
 "metadata": {
  "kernelspec": {
   "display_name": "Python 3",
   "language": "python",
   "name": "python3"
  },
  "language_info": {
   "codemirror_mode": {
    "name": "ipython",
    "version": 3
   },
   "file_extension": ".py",
   "mimetype": "text/x-python",
   "name": "python",
   "nbconvert_exporter": "python",
   "pygments_lexer": "ipython3",
   "version": "3.8.1"
  }
 },
 "nbformat": 4,
 "nbformat_minor": 2
}
